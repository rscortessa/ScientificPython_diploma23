{
 "cells": [
  {
   "cell_type": "markdown",
   "id": "d11517f7-d25e-4ddd-8cf5-95cf809e8bb5",
   "metadata": {},
   "source": [
    "### **Exercise1:**\n",
    "\n",
    "Create a class Person that represents a person and has the following attributes:\n",
    "\n",
    " - first_name: The first name of the person.\n",
    " - last_name: The last name of the person.\n",
    " - age: The age of the person.\n",
    "\n",
    "And the following methods:\n",
    "\n",
    " - full_name: Returns the full name of the person, which is the combination of their first and last name.\n",
    " - is_adult: Returns True if the person is 18 years or older, and False otherwise.\n"
   ]
  },
  {
   "cell_type": "markdown",
   "id": "ea29074e-7dd7-48c6-bfd9-03860cffc268",
   "metadata": {},
   "source": [
    "### **Exercise2:**\n",
    "\n",
    "Create your own class for complex numbers. Make sure all the arithmetic operations work and that you can print it. "
   ]
  },
  {
   "cell_type": "markdown",
   "id": "056adf91-6ce7-45f5-b89a-fad02b9198c0",
   "metadata": {},
   "source": [
    "### **Exercise3:**\n",
    "\n",
    "Create a \"wrapper class\" for around numpy array for operations on matrices. You should be able to execute the following code:\n",
    "\n",
    "```\n",
    "N=4\n",
    "matrix1=MyMatrix(N) #creates a square matrix\n",
    "matrix2=MyMatrix(N)\n",
    "print(matrix1.inverse())\n",
    "print(matrix1.determinant())\n",
    "print(matrix1.eigenvalues())\n",
    "print(matrix1+matrix2)\n",
    "print(matrix1*matrix2)\n",
    "```"
   ]
  },
  {
   "cell_type": "code",
   "execution_count": null,
   "id": "c6a295d4-ab2a-45ea-a799-a35471372728",
   "metadata": {},
   "outputs": [],
   "source": []
  }
 ],
 "metadata": {
  "kernelspec": {
   "display_name": "Python 3 (ipykernel)",
   "language": "python",
   "name": "python3"
  },
  "language_info": {
   "codemirror_mode": {
    "name": "ipython",
    "version": 3
   },
   "file_extension": ".py",
   "mimetype": "text/x-python",
   "name": "python",
   "nbconvert_exporter": "python",
   "pygments_lexer": "ipython3",
   "version": "3.10.8"
  }
 },
 "nbformat": 4,
 "nbformat_minor": 5
}
