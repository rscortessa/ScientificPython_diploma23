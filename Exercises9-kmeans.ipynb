{
 "cells": [
  {
   "cell_type": "markdown",
   "id": "d47a15df-6617-4c2b-abec-5f722c41fbb2",
   "metadata": {},
   "source": [
    "### **K-means**"
   ]
  },
  {
   "cell_type": "markdown",
   "id": "4eb2649d-9e91-4be3-ae5f-088ff9ffe811",
   "metadata": {},
   "source": [
    "Implement [k-means algorithm](https://en.wikipedia.org/wiki/K-means_clustering)\n",
    "\n",
    " - load the s3.txt file\n",
    " - choose 15 random points wihin your data\n",
    " - compute the distance from those points to each point of the data\n",
    " - assign the points to the closest centroids\n",
    " - update the centroids as the center (mean) of all the coordinates\n",
    " - repeat the last 3 steps 100 times\n",
    " - plot the clusters and the final centroids"
   ]
  },
  {
   "cell_type": "markdown",
   "id": "5a4759b9-d203-46ff-be70-deb046149c3c",
   "metadata": {},
   "source": [
    "![](clusters.png)"
   ]
  },
  {
   "cell_type": "markdown",
   "id": "acb1dfe2-d8c7-4707-bdf9-a204775686fc",
   "metadata": {},
   "source": []
  },
  {
   "cell_type": "code",
   "execution_count": null,
   "id": "e80ad3a7-6d41-4b17-a2e2-8a5224c4acd7",
   "metadata": {},
   "outputs": [],
   "source": []
  }
 ],
 "metadata": {
  "kernelspec": {
   "display_name": "Python [conda env:my_env2] *",
   "language": "python",
   "name": "conda-env-my_env2-py"
  },
  "language_info": {
   "codemirror_mode": {
    "name": "ipython",
    "version": 3
   },
   "file_extension": ".py",
   "mimetype": "text/x-python",
   "name": "python",
   "nbconvert_exporter": "python",
   "pygments_lexer": "ipython3",
   "version": "3.10.8"
  }
 },
 "nbformat": 4,
 "nbformat_minor": 5
}
