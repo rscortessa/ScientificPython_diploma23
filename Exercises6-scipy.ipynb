{
 "cells": [
  {
   "cell_type": "markdown",
   "id": "efcf1d95-3418-42e4-9d9f-4ff2c0ab896f",
   "metadata": {},
   "source": [
    "#### **Exercise1**\n",
    "\n",
    "Repeat the curve fitting example with the following modifications:\n",
    "\n",
    " - choose some other function\n",
    " - first write the data to a file, then read it (with numpy, for example)\n",
    " - produce the picture that has axes, name and legend"
   ]
  },
  {
   "cell_type": "markdown",
   "id": "4246a999-3eab-49fa-a828-6e36c408f24f",
   "metadata": {},
   "source": [
    "#### **Exercise2**\n",
    "\n",
    "Generate a 3 by 3 matrix. Find it's inverse, determinant, eigen values and eigen vectors both by using numpy and scipy functions."
   ]
  },
  {
   "cell_type": "markdown",
   "id": "47b5c5e4-a1d3-444a-99a8-d5f4f1ffd414",
   "metadata": {},
   "source": [
    "#### **Exercise3**\n",
    "\n",
    "Integrate the function `x**2 + 10*np.sin(x)` on the interval `[-10,10]`.\n",
    "Find a way to make a plot like in textbooks where you color the area under the curve that you integrate.\n",
    "Now integrate the same function symbolically using `sympy`, then put borders into it and compare the results."
   ]
  },
  {
   "cell_type": "markdown",
   "id": "85eae3d8-97d7-43cd-bf98-d7ec534d684a",
   "metadata": {},
   "source": [
    "#### **Exercise4**\n",
    "\n",
    "With the help of documentation find 3 different ways to interpolate data produced from the function \n",
    "`np.cos(-x**2/9.0)`. "
   ]
  },
  {
   "cell_type": "markdown",
   "id": "6234b112-f659-4167-a1cb-edb558107c59",
   "metadata": {},
   "source": [
    "#### **Exercise5**"
   ]
  },
  {
   "cell_type": "code",
   "execution_count": null,
   "id": "4800bb0f-5636-47b8-b278-834bdd68203f",
   "metadata": {},
   "outputs": [],
   "source": []
  }
 ],
 "metadata": {
  "kernelspec": {
   "display_name": "Python [conda env:my_env2] *",
   "language": "python",
   "name": "conda-env-my_env2-py"
  },
  "language_info": {
   "codemirror_mode": {
    "name": "ipython",
    "version": 3
   },
   "file_extension": ".py",
   "mimetype": "text/x-python",
   "name": "python",
   "nbconvert_exporter": "python",
   "pygments_lexer": "ipython3",
   "version": "3.10.8"
  }
 },
 "nbformat": 4,
 "nbformat_minor": 5
}
