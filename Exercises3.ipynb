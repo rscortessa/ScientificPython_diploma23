{
 "cells": [
  {
   "cell_type": "markdown",
   "metadata": {},
   "source": [
    "### **Exercise1**\n",
    "\n",
    "Write a matrix multiplication function using lists (\"manually\", using the matrix multiplication formula) and another one using numpy arrays (call matmul function). Time them both. "
   ]
  },
  {
   "cell_type": "markdown",
   "metadata": {},
   "source": [
    "### **Exercise2**\n",
    "\n",
    "Write a decorator that plots a function (of one variable) over the interval (0,100). Make sure your plot has a name, the axis names, nice color, changed background color and a legend.\n",
    "\n",
    "Do the same using a different \"interface\"."
   ]
  },
  {
   "cell_type": "markdown",
   "metadata": {},
   "source": [
    "### **Exercise3:**"
   ]
  },
  {
   "cell_type": "markdown",
   "metadata": {},
   "source": [
    "Plot the recaman sequence in the following way:\n",
    "\n",
    "Add a semi-circular arc from $a_{n}$ to $a_{n-1}$.\n",
    "\n",
    "Alternate the arcs to be above and below the x-axis according to whether\n",
    "    n is even or odd."
   ]
  },
  {
   "cell_type": "markdown",
   "metadata": {},
   "source": [
    "### **Exercise4:**\n",
    "\n",
    "Plot a rainbow."
   ]
  },
  {
   "cell_type": "markdown",
   "metadata": {},
   "source": [
    "### **Exercise5**\n",
    "\n",
    "Plot a nice-looking 3-D torus. Do this 3 times with different styles. "
   ]
  }
 ],
 "metadata": {
  "kernelspec": {
   "display_name": "Python3.9",
   "language": "python",
   "name": "python3.9"
  },
  "language_info": {
   "codemirror_mode": {
    "name": "ipython",
    "version": 3
   },
   "file_extension": ".py",
   "mimetype": "text/x-python",
   "name": "python",
   "nbconvert_exporter": "python",
   "pygments_lexer": "ipython3",
   "version": "3.6.13"
  }
 },
 "nbformat": 4,
 "nbformat_minor": 4
}
