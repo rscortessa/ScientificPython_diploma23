{
 "cells": [
  {
   "cell_type": "markdown",
   "id": "50f40fbb-7263-4005-ad72-822ab5498d41",
   "metadata": {},
   "source": [
    "**Little questions that I would have asked if we had an oral exam:**\n",
    "(meaning that you shouldn't read or google or think for more than 5 seconds to answer them)\n",
    "\n",
    " - How do you create markdown cell in Jupyter? (with keyboard commands)\n",
    " - How do you add a cell above the current one in Jupyter (with keyboard command)? \n",
    " - What does it mean that variables are dynamically typed in python?\n",
    " - What's the difference between python and Fortran integers?\n",
    " - Explain the difference between lists, sets and tuples in python.\n",
    " - What does negative index mean when accessing list elements?\n",
    " - How do you print the first N elements of a list?\n",
    " - How do you print every Nth element of a list?\n",
    " - How do you print the reverse list?\n",
    " - Give an example of a list comprehension.\n",
    " - Give an example of cell and line magic commands in Jupyter.\n",
    " - What are keyword function arguments in python and what is their advantage?\n",
    " - Why shouldn't you do from numpy import *?\n",
    " - What is the advantage of using numpy arrays over lists? What are the dangers?\n",
    " - What's the purpose of __str__ method in a python class?\n",
    " - What package can you use in python for symbolic calculations?\n",
    "\n"
   ]
  },
  {
   "cell_type": "markdown",
   "id": "83c1f234-b71f-40fd-a55e-4af85dc6b142",
   "metadata": {},
   "source": [
    "### **Problem1:**\n",
    "\n",
    "Write a function that calculates the first N [Fibonacci numbers](https://en.wikipedia.org/wiki/Fibonacci_number)."
   ]
  },
  {
   "cell_type": "markdown",
   "id": "7f5e1222-ff80-4c66-b304-b6a8200cde1f",
   "metadata": {},
   "source": [
    "### **Problem2:**\n",
    "\n",
    "Generate random data for 2D points coordinates. Write a function that plots them with different colors for each 90 degree section with the origin in the center. This problem should be coded as a class, i.e. you should be able to execute the code:\n",
    "\n",
    "```\n",
    "pr=Problem2()\n",
    "pr.generate()\n",
    "pr.display()\n",
    "```"
   ]
  },
  {
   "cell_type": "markdown",
   "id": "d86d921a-3868-42b6-bfa6-bf9a0ee4b7aa",
   "metadata": {},
   "source": [
    "### **Problem3:**\n",
    "\n",
    "Write a decorator that calls a function twice."
   ]
  },
  {
   "cell_type": "markdown",
   "id": "50de77fe-d733-42a7-b4ce-650777a0cc87",
   "metadata": {},
   "source": [
    "### **Problem4:**\n",
    "\n",
    "Use sympy to solve the equation `d^2y(x)/dx^2 + 9y(x)+x=0`\n",
    "Check that it's correct (still using sympy). Hint: you can access the right hand side of solution expression with `.rhs`.\n",
    "\n",
    "Then set the constants equal to 1 and integrate the obtained function numerically using scipy over the interval [0,10]\n",
    "Hint: you can use symply's lambdify function to turn sympy's expression into a function you can use later for scipy.\n"
   ]
  },
  {
   "cell_type": "markdown",
   "id": "2c32b9b2-afb0-4903-8d9b-0f60ed4065f1",
   "metadata": {},
   "source": [
    "### **Problem5:**\n",
    "(advanced, would be given as a project to do at home and explain at the oral exam)\n",
    "\n",
    "**Solving Laplace equation by Jacobi method**\n",
    "\n",
    "The algorithm used in this problem solves Laplace’s equation on an evenly spaced grid through the use of a simple Jacobi iteration technique. The equation is a partial differential equation named after Pierre-Simon Laplace and are important in many fields of science: namely the fields of electromagnetism, astronomy and fluid dynamics. \n",
    "\n",
    "The equation has the form: \n",
    "\n",
    "```\n",
    "d^2f/dx^2 + d^2f/dy^2=0\n",
    "```\n",
    "\n",
    "**The Algorithm (implement this as a class)**\n",
    "\n",
    " - create a numpy array to store 2 dimensional grid.\n",
    "\n",
    " -  Setup the initial constant boundary conditions in the following way:\n",
    "     - the value at the lower left hand corner of the of the grid is 100, \n",
    "     - the value ascending and to the right is set to a linear gradient reaching zero at the opposite corners (see Figure1). The rest of the borders are fixed at zero. Please note, that these boundaries remain constant throughout the simulation.\n",
    "\n",
    " - Setup the initial condition of the inner grid elements as 0.5.\n",
    "\n",
    "-  Write a jacobi method. At each iteration, the value of each inner matrix element needs to be recomputed from elements of the current iteration (in a similar way to how we did with game of life). The updating formula, based on numerical computation of second derivatives, is:\n",
    "\n",
    "```\n",
    "new_field[i,j]=0.25*(field[i,j-1]+field[i,j+1]+field[i+1,j]+field[i-1,j])\n",
    "```\n",
    "\n",
    "![](jacobiFigure1.jpg)\n",
    "\n",
    "Use `imshow` to plot the result. There is a `jacobi.gif` file uploaded that shows how the solution looks like. Making gifs in python is troublesome, so just the final picuture would be enough."
   ]
  },
  {
   "cell_type": "code",
   "execution_count": null,
   "id": "015e7be5-3a05-4994-bf0b-22db043cd3a6",
   "metadata": {},
   "outputs": [],
   "source": []
  }
 ],
 "metadata": {
  "kernelspec": {
   "display_name": "Python [conda env:my_env2] *",
   "language": "python",
   "name": "conda-env-my_env2-py"
  },
  "language_info": {
   "codemirror_mode": {
    "name": "ipython",
    "version": 3
   },
   "file_extension": ".py",
   "mimetype": "text/x-python",
   "name": "python",
   "nbconvert_exporter": "python",
   "pygments_lexer": "ipython3",
   "version": "3.10.8"
  }
 },
 "nbformat": 4,
 "nbformat_minor": 5
}
