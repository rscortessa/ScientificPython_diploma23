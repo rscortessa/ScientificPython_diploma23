{
 "cells": [
  {
   "cell_type": "markdown",
   "metadata": {},
   "source": [
    "### **Exercise1:**\n",
    "\n",
    "Create a function returning the first N terms of the tailor series of the function without using the sympy `series` function."
   ]
  },
  {
   "cell_type": "code",
   "execution_count": 1,
   "metadata": {},
   "outputs": [],
   "source": [
    "import sympy as sp"
   ]
  },
  {
   "cell_type": "code",
   "execution_count": 104,
   "metadata": {},
   "outputs": [],
   "source": [
    "def my_tailor(f,N):\n",
    "    x0 = sp.symbols('x0')\n",
    "    result = f.subs(x, x0)\n",
    "    f_diff = f.diff()\n",
    "    div = 1\n",
    "    for i in range(0, N):\n",
    "        result = result + f_diff.subs(x, x0)*(x-x0)**(i+1) / div\n",
    "        div = div * (i+2)\n",
    "        f_diff = f_diff.diff()\n",
    "    \n",
    "    return(result)"
   ]
  },
  {
   "cell_type": "code",
   "execution_count": 107,
   "metadata": {},
   "outputs": [
    {
     "name": "stdout",
     "output_type": "stream",
     "text": [
      "x0**4 + x0**3 + x0**2 + (x - x0)**3*(24*x0 + 6)/6 + (x - x0)**2*(12*x0**2 + 6*x0 + 2)/2 + (x - x0)*(4*x0**3 + 3*x0**2 + 2*x0)\n"
     ]
    }
   ],
   "source": [
    "x,h=sp.symbols('x h')\n",
    "#my_f=x**2+sp.sin(x)*sp.cos(x)+4*x**3\n",
    "my_f=x**4+x**3+x**2\n",
    "#print(my_f)\n",
    "print(my_tailor(my_f,3))"
   ]
  },
  {
   "cell_type": "markdown",
   "metadata": {},
   "source": [
    "### **Exercise2:**"
   ]
  },
  {
   "cell_type": "markdown",
   "metadata": {},
   "source": [
    "Create a decorator that checks if the passed array is empty and only calls the function if it's not"
   ]
  },
  {
   "cell_type": "code",
   "execution_count": 86,
   "metadata": {},
   "outputs": [],
   "source": [
    "import functools\n",
    "def check_empty(func):\n",
    "    @functools.wraps(func)\n",
    "    def wrapper(arg):\n",
    "        if len(arg)== 0:\n",
    "            return \"I don't work with an empty array\"\n",
    "        else:\n",
    "            return func(arg)\n",
    "    return wrapper"
   ]
  },
  {
   "cell_type": "code",
   "execution_count": 87,
   "metadata": {},
   "outputs": [],
   "source": [
    "@check_empty\n",
    "def print_array(arr):\n",
    "    '''I print arrays'''\n",
    "    [print(arr[i]) for i in range(len(arr))]"
   ]
  },
  {
   "cell_type": "code",
   "execution_count": 88,
   "metadata": {},
   "outputs": [
    {
     "name": "stdout",
     "output_type": "stream",
     "text": [
      "1\n",
      "2\n",
      "3\n"
     ]
    },
    {
     "data": {
      "text/plain": [
       "\"I don't work with an empty array\""
      ]
     },
     "execution_count": 88,
     "metadata": {},
     "output_type": "execute_result"
    }
   ],
   "source": [
    "l=[1,2,3]\n",
    "m=[]\n",
    "print_array(l)\n",
    "print_array(m)"
   ]
  },
  {
   "cell_type": "code",
   "execution_count": 78,
   "metadata": {},
   "outputs": [
    {
     "name": "stdout",
     "output_type": "stream",
     "text": [
      "Help on function wrapper in module __main__:\n",
      "\n",
      "wrapper(arg)\n",
      "\n"
     ]
    }
   ],
   "source": [
    "help(print_array)"
   ]
  },
  {
   "cell_type": "markdown",
   "metadata": {},
   "source": [
    "### **Exercise3:**"
   ]
  },
  {
   "cell_type": "markdown",
   "metadata": {},
   "source": [
    "Create a decorator to time a function execution time. Hint: use `import time` and `time_point=time.time()`. You can check if it's correct by timing the `time.sleep` function."
   ]
  },
  {
   "cell_type": "code",
   "execution_count": 31,
   "metadata": {},
   "outputs": [],
   "source": [
    "import time"
   ]
  },
  {
   "cell_type": "code",
   "execution_count": 53,
   "metadata": {},
   "outputs": [],
   "source": [
    "def timing(func):\n",
    "    @functools.wraps(func)\n",
    "    def wrapper(*arg, **kwargs):\n",
    "        t_start = time.time()\n",
    "        value=func(*arg, **kwargs)\n",
    "        t_end = time.time()\n",
    "        print(\"time taken:\",t_end - t_start)\n",
    "        return value\n",
    "    return wrapper"
   ]
  },
  {
   "cell_type": "code",
   "execution_count": 63,
   "metadata": {},
   "outputs": [],
   "source": [
    "@timing\n",
    "def lazy_function():\n",
    "    time.sleep(2)"
   ]
  },
  {
   "cell_type": "code",
   "execution_count": 64,
   "metadata": {},
   "outputs": [
    {
     "name": "stdout",
     "output_type": "stream",
     "text": [
      "time taken: 2.0020933151245117\n"
     ]
    }
   ],
   "source": [
    "lazy_function()"
   ]
  },
  {
   "cell_type": "code",
   "execution_count": null,
   "metadata": {},
   "outputs": [],
   "source": []
  }
 ],
 "metadata": {
  "kernelspec": {
   "display_name": "Python 3 (ipykernel)",
   "language": "python",
   "name": "python3"
  },
  "language_info": {
   "codemirror_mode": {
    "name": "ipython",
    "version": 3
   },
   "file_extension": ".py",
   "mimetype": "text/x-python",
   "name": "python",
   "nbconvert_exporter": "python",
   "pygments_lexer": "ipython3",
   "version": "3.10.9"
  }
 },
 "nbformat": 4,
 "nbformat_minor": 4
}
